{
 "cells": [
  {
   "cell_type": "code",
   "execution_count": 25,
   "metadata": {},
   "outputs": [],
   "source": [
    "from pyspark.sql import SparkSession\n",
    "from pyspark.ml.feature import HashingTF, IDF\n",
    "from pyspark.sql.types import *\n",
    "import pyspark.sql.functions as psf\n",
    "from pyspark.sql.window import Window\n",
    "from pyspark.sql.types import StringType, StructType\n",
    "from sklearn.metrics.pairwise import cosine_similarity\n",
    "from scipy.sparse import csr_matrix\n",
    "from operator import attrgetter\n",
    "from scipy.sparse import vstack\n",
    "import numpy as np\n",
    "from pathlib import Path\n",
    "import shutil"
   ]
  },
  {
   "cell_type": "code",
   "execution_count": 28,
   "metadata": {},
   "outputs": [
    {
     "name": "stderr",
     "output_type": "stream",
     "text": [
      "[Stage 117:>                                                        (0 + 1) / 1]\r"
     ]
    }
   ],
   "source": [
    "def as_matrix(vec):\n",
    "    data, indices = vec.values, vec.indices\n",
    "    shape = 1, vec.size\n",
    "    return csr_matrix((data, indices, np.array([0, vec.values.size])), shape)\n",
    "\n",
    "def broadcast_matrix(mat):\n",
    "    bcast = sc.broadcast((mat.data, mat.indices, mat.indptr))\n",
    "    (data, indices, indptr) = bcast.value\n",
    "    bcast_mat = csr_matrix((data, indices, indptr), shape=mat.shape)\n",
    "    return bcast_mat \n",
    "\n",
    "def parallelize_matrix(scipy_mat, rows_per_chunk=100):\n",
    "    [rows, cols] = scipy_mat.shape\n",
    "    i = 0\n",
    "    submatrices = []\n",
    "    while i < rows:\n",
    "        current_chunk_size = min(rows_per_chunk, rows - i)\n",
    "        submat = scipy_mat[i:i + current_chunk_size]\n",
    "        submatrices.append((i, (submat.data, submat.indices, submat.indptr), (current_chunk_size, cols)))\n",
    "        i += current_chunk_size\n",
    "    return sc.parallelize(submatrices)\n",
    "\n",
    "def calculated_cosine_similarity(sources, targets, inputs_start_index, threshold=.2):\n",
    "    cosimilarities = cosine_similarity(sources.toarray(), targets.toarray())\n",
    "    for i, cosimilarity in enumerate(cosimilarities):\n",
    "        res_list = []\n",
    "        cosimilarity = cosimilarity.flatten()\n",
    "        rounded = [np.round(x, 4) for x in cosimilarity]\n",
    "        source_index = inputs_start_index + i + 1\n",
    "        for _, score in enumerate(rounded):\n",
    "            if score > threshold:\n",
    "                res_list.append(score)\n",
    "        \n",
    "        yield (source_index, len(res_list)-1)"
   ]
  },
  {
   "cell_type": "code",
   "execution_count": 26,
   "metadata": {},
   "outputs": [],
   "source": [
    "spark = SparkSession.builder \\\n",
    "        .appName('TF-IDF') \\\n",
    "        .config(\"spark.sql.analyzer.maxIterations\", \"500\") \\\n",
    "        .config('spark.executor.memory', '8g') \\\n",
    "        .config('spark.driver.memory', '8g') \\\n",
    "        .getOrCreate()\n",
    "sc = spark.sparkContext\n",
    "\n",
    "# Read the articles into a RDD\n",
    "rdd = (sc.textFile('hdfs://namenode:9000/arxiv_dataset/cleaned_train.txt')\n",
    "        .map(lambda line: line.split('\\t'))\n",
    "        .map(lambda r: (r[0].replace('\"', ''), r[1].split(\" \"))))\n",
    "\n",
    "# Schema for DataFrame\n",
    "schema = StructType([\n",
    "        StructField('id', StringType()),\n",
    "        StructField('words', ArrayType(elementType=StringType()))\n",
    "])\n",
    "\n",
    "# Convert RDD to DataFrame\n",
    "# data = spark.createDataFrame(rdd, schema)\n",
    "# data.show(10)\n",
    "# rdd.take(1)"
   ]
  },
  {
   "cell_type": "code",
   "execution_count": null,
   "metadata": {},
   "outputs": [],
   "source": [
    "data = spark.createDataFrame(rdd, schema)\n",
    "data.show(5)"
   ]
  },
  {
   "cell_type": "code",
   "execution_count": 7,
   "metadata": {},
   "outputs": [
    {
     "name": "stderr",
     "output_type": "stream",
     "text": [
      "                                                                                \r"
     ]
    }
   ],
   "source": [
    "# Read categories into dataframe\n",
    "categories = spark.read.csv('arxiv-dataset/categories.csv', header=True, inferSchema=True)\n",
    "unique_cats = categories.select('categories').distinct()\n",
    "cats_split = unique_cats.select(psf.split(psf.col('categories'), ' ').alias('categories'))\n",
    "cats_list = cats_split.select(psf.explode(psf.col('categories')).alias('category')).distinct()\n",
    "\n",
    "for row in cats_list.collect():\n",
    "    category = row.category\n",
    "    categories = categories.withColumn(category, psf.when(categories['categories'].contains(category), 1).otherwise(0))\n",
    "\n",
    "joined_data = data.join(categories, [\"id\"])"
   ]
  },
  {
   "cell_type": "code",
   "execution_count": null,
   "metadata": {},
   "outputs": [],
   "source": [
    "for i,row in enumerate(cats_list.collect()):\n",
    "    print(row.category)\n",
    "    cat_df = joined_data.filter(joined_data[f'`{row.category}`'] == 1)\n",
    "    print('filtered')\n",
    "    cat_df.write.json(f'hdfs://namenode:9000/arxiv_dataset/categories/{row.category}')\n",
    "    if i == 10: break"
   ]
  },
  {
   "cell_type": "code",
   "execution_count": 22,
   "metadata": {},
   "outputs": [
    {
     "name": "stdout",
     "output_type": "stream",
     "text": [
      "output/nlin.CD/part-00000-450b8f31-803a-4c3c-b355-42f59fbcda21-c000.csv\n",
      "output/cs.MS/part-00000-579407b2-635a-4773-9c84-d08fd64ea073-c000.csv\n",
      "output/q-fin.CP/part-00000-78fd9394-527d-4acd-b44a-fc2b5aac964c-c000.csv\n",
      "output/cs.LG/part-00000-27723eed-4325-4d32-b62f-601821b48d5c-c000.csv\n",
      "+--------+--------------------+\n",
      "|      id|               words|\n",
      "+--------+--------------------+\n",
      "|806.3537|\"suppose,we,are,t...|\n",
      "+--------+--------------------+\n",
      "\n"
     ]
    }
   ],
   "source": [
    "# loop over 10 first folders \n",
    "# get folders in hdfs://namenode:9000/arxiv_dataset/categories\n",
    "cats = ['arxiv_dataset/categories/astro-ph.IM']\n",
    "for i, cat in enumerate(cats):\n",
    "    df = spark.read.json(f'hdfs://namenode:9000/{cat}')\n",
    "    print(df.count())\n",
    "    hashingTF = HashingTF(inputCol=\"words\", outputCol='features', numFeatures=2**17)\n",
    "    tf = hashingTF.transform(df)\n",
    "    idf = IDF(inputCol='features', outputCol='idf')\n",
    "    model = idf.fit(tf)\n",
    "    tf_idf = model.transform(tf)\n",
    "    tf_idf = tf_idf.drop('words', 'features', 'categories')\n",
    "    vectors = tf_idf.rdd.map(attrgetter('idf'))\n",
    "    matrix = vectors.map(as_matrix)\n",
    "    matrix_reduced = matrix.reduce(lambda x, y: vstack([x, y]))\n",
    "    matrix_parallelized = parallelize_matrix(matrix_reduced, rows_per_chunk=1000)\n",
    "    matrix_broadcast = broadcast_matrix(matrix_reduced)\n",
    "    print('Calculating result')\n",
    "    res = matrix_parallelized.flatMap(lambda submatrix: \\\n",
    "        calculated_cosine_similarity(csr_matrix(submatrix[1], \\\n",
    "            shape=submatrix[2]), matrix_broadcast, submatrix[0]))\n",
    "    final = res.sum()\n",
    "    print(f'Category: {cat}; No. articles checked: {cat_df.count()}; Similar articles detected: {final}')\n",
    "    if i == 10: break"
   ]
  },
  {
   "cell_type": "code",
   "execution_count": null,
   "metadata": {},
   "outputs": [],
   "source": [
    "cats = [file for file in Path('hdfs://namenode:9000/arxiv_dataset/categories/').iterdir()]\n",
    "\n"
   ]
  }
 ],
 "metadata": {
  "interpreter": {
   "hash": "e5030792b3492f6b12d94f1f48beca3d8e59ec05fd59d0aaaa48e684281ed297"
  },
  "kernelspec": {
   "display_name": "Python 3.7.12 64-bit",
   "language": "python",
   "name": "python3"
  },
  "language_info": {
   "codemirror_mode": {
    "name": "ipython",
    "version": 3
   },
   "file_extension": ".py",
   "mimetype": "text/x-python",
   "name": "python",
   "nbconvert_exporter": "python",
   "pygments_lexer": "ipython3",
   "version": "3.8.10"
  },
  "orig_nbformat": 4
 },
 "nbformat": 4,
 "nbformat_minor": 2
}
