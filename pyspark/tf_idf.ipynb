{
 "cells": [
  {
   "cell_type": "code",
   "execution_count": 119,
   "metadata": {},
   "outputs": [],
   "source": [
    "import sys\n",
    "from pyspark.sql import SparkSession, DataFrame\n",
    "from pyspark.ml.feature import HashingTF, IDF\n",
    "from sklearn.metrics.pairwise import cosine_similarity\n",
    "import numpy as np\n",
    "import pandas as pd\n",
    "from pyspark.sql.types import *\n",
    "from functools import reduce"
   ]
  },
  {
   "cell_type": "code",
   "execution_count": 72,
   "metadata": {},
   "outputs": [],
   "source": [
    "def split_file(x):\n",
    "    value=x.split('\\t')\n",
    "    return (value[0].replace('\"', ''), value[1].split(' '))"
   ]
  },
  {
   "cell_type": "code",
   "execution_count": 59,
   "metadata": {},
   "outputs": [],
   "source": [
    "spark = SparkSession.builder.appName('SparkByExamples.com').getOrCreate()\n",
    "df = spark.read.text('cleaned.txt')\n",
    "rdd = df.rdd.map(lambda x: split_file(x))\n",
    "df2 = rdd.toDF().withColumnRenamed('_2', 'content').withColumnRenamed('_1', 'id')\n",
    "\n",
    "hashingTF = HashingTF(inputCol=\"content\", outputCol='features')\n",
    "hashingTF.setNumFeatures(1000)\n",
    "\n",
    "tf = hashingTF.transform(df2)\n",
    "\n",
    "idf = IDF()\n",
    "idf.setInputCol('features')\n",
    "idf.setOutputCol('idf')\n",
    "model = idf.fit(tf)\n",
    "tf_idf = model.transform(tf)"
   ]
  },
  {
   "cell_type": "code",
   "execution_count": 65,
   "metadata": {},
   "outputs": [],
   "source": [
    "sc = spark.sparkContext"
   ]
  },
  {
   "cell_type": "code",
   "execution_count": 76,
   "metadata": {},
   "outputs": [],
   "source": [
    "# Read categories into dataframe\n",
    "categories = spark.read.csv('cat_test.csv', header=True, inferSchema=True)\n",
    "\n",
    "# Make a column for each unique category, split each category on spaces\n",
    "unique_cats = categories.select('categories').distinct()"
   ]
  },
  {
   "cell_type": "code",
   "execution_count": 77,
   "metadata": {},
   "outputs": [],
   "source": [
    "\n",
    "# Split unique categories on spaces\n",
    "cats_split = unique_cats.select(psf.split(psf.col('categories'), ' ').alias('categories'))\n",
    "\n",
    "# Make a list of all the categories\n",
    "cats_list = cats_split.select(psf.explode(psf.col('categories')).alias('category')).distinct()"
   ]
  },
  {
   "cell_type": "code",
   "execution_count": 78,
   "metadata": {},
   "outputs": [],
   "source": [
    "# # Add to categories dataframe a column for each unique category\n",
    "for row in cats_list.collect():\n",
    "    category = row.category\n",
    "    categories = categories.withColumn(category, psf.when(categories['categories'].contains(category), 1).otherwise(0))"
   ]
  },
  {
   "cell_type": "code",
   "execution_count": 79,
   "metadata": {},
   "outputs": [
    {
     "data": {
      "text/plain": [
       "[Row(id='0908.1812', categories='astro-ph.SR astro-ph.CO astro-ph.HE', gr-qc=0, astro-ph.SR=1, astro-ph.CO=1, astro-ph.HE=1, stat.AP=0, hep-ph=0)]"
      ]
     },
     "execution_count": 79,
     "metadata": {},
     "output_type": "execute_result"
    }
   ],
   "source": [
    "categories.take(1)"
   ]
  },
  {
   "cell_type": "code",
   "execution_count": 83,
   "metadata": {},
   "outputs": [],
   "source": [
    "data = (sc.textFile('cleaned-test.txt')\n",
    "    .map(lambda x: split_file(x))\n",
    "    .toDF(['id', 'words'])\n",
    ")\n"
   ]
  },
  {
   "cell_type": "code",
   "execution_count": 84,
   "metadata": {},
   "outputs": [],
   "source": [
    "joined_data = data.join(categories, [\"id\"])\n"
   ]
  },
  {
   "cell_type": "code",
   "execution_count": 85,
   "metadata": {},
   "outputs": [
    {
     "name": "stdout",
     "output_type": "stream",
     "text": [
      "+-----------+--------------------+--------------------+-----+-----------+-----------+-----------+-------+------+\n",
      "|         id|               words|          categories|gr-qc|astro-ph.SR|astro-ph.CO|astro-ph.HE|stat.AP|hep-ph|\n",
      "+-----------+--------------------+--------------------+-----+-----------+-----------+-----------+-------+------+\n",
      "|  0807.5065|[\"one, of, the, m...|               gr-qc|    1|          0|          0|          0|      0|     0|\n",
      "| 1512.09024|[\"recently, it, w...|              hep-ph|    0|          0|          0|          0|      0|     1|\n",
      "|  0908.1812|[\"this, review, f...|astro-ph.SR astro...|    0|          1|          1|          1|      0|     0|\n",
      "|1009.3123-1|[\"for, about, 20,...| stat.AP astro-ph.SR|    0|          1|          0|          0|      1|     0|\n",
      "|  1009.3123|[\"for, about, 20,...| stat.AP astro-ph.SR|    0|          1|          0|          0|      1|     0|\n",
      "+-----------+--------------------+--------------------+-----+-----------+-----------+-----------+-------+------+\n",
      "\n"
     ]
    }
   ],
   "source": [
    "joined_data.show()"
   ]
  },
  {
   "cell_type": "code",
   "execution_count": 106,
   "metadata": {},
   "outputs": [],
   "source": [
    "hashingTF = HashingTF(inputCol=\"words\", outputCol='features')\n",
    "hashingTF.setNumFeatures(1000)\n",
    "\n",
    "tf = hashingTF.transform(joined_data)\n",
    "\n",
    "idf = IDF()\n",
    "idf.setInputCol('features')\n",
    "idf.setOutputCol('idf')\n",
    "model = idf.fit(tf)\n",
    "tf_idf = model.transform(tf)"
   ]
  },
  {
   "cell_type": "code",
   "execution_count": 125,
   "metadata": {},
   "outputs": [
    {
     "name": "stdout",
     "output_type": "stream",
     "text": [
      "+---------+-----------+----------+\n",
      "|        i|          j|similarity|\n",
      "+---------+-----------+----------+\n",
      "|0908.1812|  1009.3123|    0.0223|\n",
      "|0908.1812|1009.3123-1|    0.0223|\n",
      "|1009.3123|1009.3123-1|       1.0|\n",
      "+---------+-----------+----------+\n",
      "\n"
     ]
    }
   ],
   "source": [
    "cosine_similarity_udf = psf.udf(lambda x,y: round(float(x.dot(y)/(x.norm(2) * y.norm(2))), 4), DoubleType())\n",
    "\n",
    "result = spark.createDataFrame([], StructType([]))\n",
    "\n",
    "result_append = []\n",
    "\n",
    "for row in cats_list.collect(): # Uses collect here since it is a limited number of categories\n",
    "    cat_df = tf_idf.filter(tf_idf[f'`{row.category}`'] == 1)\n",
    "\n",
    "    res = cat_df.alias(\"i\").join(cat_df.alias(\"j\"), psf.col(\"i.id\") < psf.col(\"j.id\"))\\\n",
    "        .select(\n",
    "            psf.col(\"i.id\").alias(\"i\"), \n",
    "            psf.col(\"j.id\").alias(\"j\"), \n",
    "            cosine_similarity_udf(\"i.idf\", \"j.idf\").alias(\"similarity\"))\\\n",
    "        .sort(\"i\", \"j\")\n",
    "    result_append.append(res)\n",
    "\n",
    "df_series = reduce(DataFrame.unionAll, result_append).distinct()\n",
    "df_series.show()\n"
   ]
  },
  {
   "cell_type": "code",
   "execution_count": 32,
   "metadata": {},
   "outputs": [],
   "source": [
    "import pyspark.sql.functions as psf"
   ]
  }
 ],
 "metadata": {
  "interpreter": {
   "hash": "e5030792b3492f6b12d94f1f48beca3d8e59ec05fd59d0aaaa48e684281ed297"
  },
  "kernelspec": {
   "display_name": "Python 3.7.12 64-bit",
   "language": "python",
   "name": "python3"
  },
  "language_info": {
   "codemirror_mode": {
    "name": "ipython",
    "version": 3
   },
   "file_extension": ".py",
   "mimetype": "text/x-python",
   "name": "python",
   "nbconvert_exporter": "python",
   "pygments_lexer": "ipython3",
   "version": "3.9.4"
  },
  "orig_nbformat": 4
 },
 "nbformat": 4,
 "nbformat_minor": 2
}
