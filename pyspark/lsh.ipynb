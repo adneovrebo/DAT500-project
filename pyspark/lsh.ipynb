{
 "cells": [
  {
   "cell_type": "code",
   "execution_count": null,
   "metadata": {},
   "outputs": [],
   "source": [
    "from pyspark.sql import SparkSession\n",
    "from pyspark.ml.feature import NGram, BucketedRandomProjectionLSH\n",
    "from pyspark.ml.feature import CountVectorizer\n",
    "from pyspark.sql.types import StructType,StructField, StringType, ArrayType\n",
    "from pyspark.sql.functions import udf, col"
   ]
  },
  {
   "cell_type": "code",
   "execution_count": null,
   "metadata": {},
   "outputs": [],
   "source": [
    "# Create spark session with increased memory\n",
    "spark = (SparkSession.builder.master(\"local[*]\")\n",
    "    .appName(\"lsh\").config(\"spark.driver.memory\", \"8g\")\n",
    "    .config(\"spark.executor.memory\", \"8g\")\n",
    "    .getOrCreate())\n",
    "sc = spark.sparkContext"
   ]
  },
  {
   "cell_type": "markdown",
   "metadata": {},
   "source": [
    "# Bucketing"
   ]
  },
  {
   "cell_type": "code",
   "execution_count": null,
   "metadata": {},
   "outputs": [],
   "source": [
    "# Split on tab and create a new column with rdd and split article_text into array of words\n",
    "rdd = (sc.textFile('cleaned.txt')\n",
    "        .map(lambda line: line.split('\\t'))\n",
    "        .map(lambda r: (r[0], r[1].split(\" \"))))\n",
    "\n",
    "schema = StructType([\n",
    "        StructField('id', StringType()),\n",
    "        StructField('words', ArrayType(elementType=StringType()))\n",
    "])\n",
    "\n",
    "df = spark.createDataFrame(rdd, schema)\n",
    "\n",
    "\n",
    "# # Make ngrams of size n\n",
    "ngram = NGram(n=2, inputCol=\"words\", outputCol=\"ngrams\")\n",
    "ngram_df = ngram.transform(df)\n",
    "\n",
    "# # # # Countvectorizer\n",
    "cv = CountVectorizer(inputCol=\"ngrams\", outputCol=\"features\", vocabSize=1_000_000, minDF=2)\n",
    "cv_model = cv.fit(ngram_df)\n",
    "cv_df = cv_model.transform(ngram_df)\n",
    "\n",
    "brp = BucketedRandomProjectionLSH(inputCol=\"features\", outputCol=\"hashes\", bucketLength=1_000_000,\n",
    "                                  numHashTables=100)\n",
    "model = brp.fit(cv_df)"
   ]
  },
  {
   "cell_type": "code",
   "execution_count": null,
   "metadata": {},
   "outputs": [],
   "source": [
    "# Load text from review.txt file\n",
    "text = open('review.txt', 'r').read().split(\" \")\n",
    "# add text to dataframe \n",
    "text_df = spark.createDataFrame([(text, )], ['words'])\n",
    "# Find ngrams of text\n",
    "text_ngram = ngram.transform(text_df)\n",
    "# Countvectorize text\n",
    "text_cv = cv_model.transform(text_ngram)\n",
    "# Get the key\n",
    "key = text_cv.first()[\"features\"]\n",
    "\n",
    "# Find the nearest neighbors\n",
    "res = model.approxNearestNeighbors(cv_df, key, 10)\n",
    "\n",
    "res.select([\"id\", \"distCol\"]).show()"
   ]
  },
  {
   "cell_type": "code",
   "execution_count": null,
   "metadata": {},
   "outputs": [],
   "source": [
    "model.approxSimilarityJoin(cv_df, text_cv, 1.5, distCol=\"EuclideanDistance\")\\\n",
    "    .select(col(\"datasetA.id\").alias(\"idA\"),\n",
    "            col(\"datasetB.id\").alias(\"idB\"),\n",
    "            col(\"EuclideanDistance\")).show()"
   ]
  }
 ],
 "metadata": {
  "interpreter": {
   "hash": "aee8b7b246df8f9039afb4144a1f6fd8d2ca17a180786b69acc140d282b71a49"
  },
  "kernelspec": {
   "display_name": "Python 3.9.4 64-bit",
   "language": "python",
   "name": "python3"
  },
  "language_info": {
   "codemirror_mode": {
    "name": "ipython",
    "version": 3
   },
   "file_extension": ".py",
   "mimetype": "text/x-python",
   "name": "python",
   "nbconvert_exporter": "python",
   "pygments_lexer": "ipython3",
   "version": "3.9.4"
  },
  "orig_nbformat": 4
 },
 "nbformat": 4,
 "nbformat_minor": 2
}
